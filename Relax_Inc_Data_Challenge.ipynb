{
  "nbformat": 4,
  "nbformat_minor": 0,
  "metadata": {
    "colab": {
      "name": "Relax Inc Data Challenge.ipynb",
      "provenance": [],
      "collapsed_sections": [],
      "toc_visible": true,
      "authorship_tag": "ABX9TyNdi8xV9MULEWSjGX+mAzM3"
    },
    "kernelspec": {
      "name": "python3",
      "display_name": "Python 3"
    }
  },
  "cells": [
    {
      "cell_type": "markdown",
      "metadata": {
        "id": "JsHSXT09bOG_",
        "colab_type": "text"
      },
      "source": [
        "## **Data Wrangling**"
      ]
    },
    {
      "cell_type": "markdown",
      "metadata": {
        "id": "EerI2SsvbN_I",
        "colab_type": "text"
      },
      "source": [
        "**User engagement data**"
      ]
    },
    {
      "cell_type": "code",
      "metadata": {
        "id": "jklRg1oLa-x3",
        "colab_type": "code",
        "colab": {
          "base_uri": "https://localhost:8080/",
          "height": 54
        },
        "outputId": "49df750a-07d2-4777-8b60-f052a7b4a5d6"
      },
      "source": [
        "# Import libraries\n",
        "import pandas as pd\n",
        "import numpy as np\n",
        "import matplotlib.pyplot as plt\n",
        "import seaborn as sns\n",
        "import pandas.util.testing as tm\n",
        "%matplotlib inline\n",
        "plt.style.use('fivethirtyeight')"
      ],
      "execution_count": 1,
      "outputs": [
        {
          "output_type": "stream",
          "text": [
            "/usr/local/lib/python3.6/dist-packages/statsmodels/tools/_testing.py:19: FutureWarning: pandas.util.testing is deprecated. Use the functions in the public API at pandas.testing instead.\n",
            "  import pandas.util.testing as tm\n"
          ],
          "name": "stderr"
        }
      ]
    },
    {
      "cell_type": "code",
      "metadata": {
        "id": "BNq2NJgTbgCI",
        "colab_type": "code",
        "colab": {
          "base_uri": "https://localhost:8080/",
          "height": 206
        },
        "outputId": "5aa9c998-2f7f-48de-a9fe-3bd3cfb106d7"
      },
      "source": [
        "#Read the user engagement data\n",
        "engagement = pd.read_csv('takehome_user_engagement.csv')\n",
        "engagement.head()"
      ],
      "execution_count": 2,
      "outputs": [
        {
          "output_type": "execute_result",
          "data": {
            "text/html": [
              "<div>\n",
              "<style scoped>\n",
              "    .dataframe tbody tr th:only-of-type {\n",
              "        vertical-align: middle;\n",
              "    }\n",
              "\n",
              "    .dataframe tbody tr th {\n",
              "        vertical-align: top;\n",
              "    }\n",
              "\n",
              "    .dataframe thead th {\n",
              "        text-align: right;\n",
              "    }\n",
              "</style>\n",
              "<table border=\"1\" class=\"dataframe\">\n",
              "  <thead>\n",
              "    <tr style=\"text-align: right;\">\n",
              "      <th></th>\n",
              "      <th>time_stamp</th>\n",
              "      <th>user_id</th>\n",
              "      <th>visited</th>\n",
              "    </tr>\n",
              "  </thead>\n",
              "  <tbody>\n",
              "    <tr>\n",
              "      <th>0</th>\n",
              "      <td>2014-04-22 03:53:30</td>\n",
              "      <td>1</td>\n",
              "      <td>1</td>\n",
              "    </tr>\n",
              "    <tr>\n",
              "      <th>1</th>\n",
              "      <td>2013-11-15 03:45:04</td>\n",
              "      <td>2</td>\n",
              "      <td>1</td>\n",
              "    </tr>\n",
              "    <tr>\n",
              "      <th>2</th>\n",
              "      <td>2013-11-29 03:45:04</td>\n",
              "      <td>2</td>\n",
              "      <td>1</td>\n",
              "    </tr>\n",
              "    <tr>\n",
              "      <th>3</th>\n",
              "      <td>2013-12-09 03:45:04</td>\n",
              "      <td>2</td>\n",
              "      <td>1</td>\n",
              "    </tr>\n",
              "    <tr>\n",
              "      <th>4</th>\n",
              "      <td>2013-12-25 03:45:04</td>\n",
              "      <td>2</td>\n",
              "      <td>1</td>\n",
              "    </tr>\n",
              "  </tbody>\n",
              "</table>\n",
              "</div>"
            ],
            "text/plain": [
              "            time_stamp  user_id  visited\n",
              "0  2014-04-22 03:53:30        1        1\n",
              "1  2013-11-15 03:45:04        2        1\n",
              "2  2013-11-29 03:45:04        2        1\n",
              "3  2013-12-09 03:45:04        2        1\n",
              "4  2013-12-25 03:45:04        2        1"
            ]
          },
          "metadata": {
            "tags": []
          },
          "execution_count": 2
        }
      ]
    },
    {
      "cell_type": "code",
      "metadata": {
        "id": "ZR_3zz_ObmxT",
        "colab_type": "code",
        "colab": {
          "base_uri": "https://localhost:8080/",
          "height": 35
        },
        "outputId": "7ac2200f-de58-4af6-a021-e0939ac9761b"
      },
      "source": [
        "#Check how many users and how many logins\n",
        "print('There were {} users and {} total logins'.format(\n",
        "    engagement['user_id'].nunique(), len(engagement)\n",
        "))"
      ],
      "execution_count": 3,
      "outputs": [
        {
          "output_type": "stream",
          "text": [
            "There were 8823 users and 207917 total logins\n"
          ],
          "name": "stdout"
        }
      ]
    },
    {
      "cell_type": "code",
      "metadata": {
        "id": "U0GZsjtlbu-Z",
        "colab_type": "code",
        "colab": {}
      },
      "source": [
        "# Convert time_stamp into datetime format\n",
        "engagement['time_stamp'] = pd.to_datetime(\n",
        "    engagement['time_stamp'], format='%Y-%m-%d %H:%M:%S'\n",
        ")"
      ],
      "execution_count": 4,
      "outputs": []
    },
    {
      "cell_type": "code",
      "metadata": {
        "id": "79Mo5MpTb6uy",
        "colab_type": "code",
        "colab": {}
      },
      "source": [
        "# Define a function to see if a user logged in on 3 seperate days in a 7-day period.\n",
        "def logins_in_days(df, days=7, logins=3):\n",
        "    from datetime import timedelta\n",
        "    # Drop duplicate days and sort by day\n",
        "    df['date'] = df['time_stamp'].dt.date\n",
        "    df = df.drop_duplicates(subset='date').sort_values('date')\n",
        "    # Calculate how many days has passed for every 3 logins\n",
        "    passed_days = df['date'].diff(periods=logins-1)\n",
        "    # Check if any passed time is less than 7 days\n",
        "    return any(passed_days <= timedelta(days=days))"
      ],
      "execution_count": 5,
      "outputs": []
    },
    {
      "cell_type": "code",
      "metadata": {
        "id": "mglphTCgb9Io",
        "colab_type": "code",
        "colab": {}
      },
      "source": [
        "# Run the function on all users\n",
        "adopted = engagement.groupby('user_id').apply(logins_in_days)\n",
        "adopted.name = 'adopted_user'"
      ],
      "execution_count": 6,
      "outputs": []
    },
    {
      "cell_type": "code",
      "metadata": {
        "id": "_J6dRgpjb_os",
        "colab_type": "code",
        "colab": {
          "base_uri": "https://localhost:8080/",
          "height": 35
        },
        "outputId": "bf865bcb-ff9e-47ff-9436-f97cf57bf797"
      },
      "source": [
        "print('There were {} adopted users out of {} users'.format(\n",
        "    sum(adopted), len(adopted)))"
      ],
      "execution_count": 7,
      "outputs": [
        {
          "output_type": "stream",
          "text": [
            "There were 1656 adopted users out of 8823 users\n"
          ],
          "name": "stdout"
        }
      ]
    },
    {
      "cell_type": "markdown",
      "metadata": {
        "id": "SbKzWLoIcRES",
        "colab_type": "text"
      },
      "source": [
        "**User data**"
      ]
    },
    {
      "cell_type": "code",
      "metadata": {
        "id": "KY1zss4kcNte",
        "colab_type": "code",
        "colab": {
          "base_uri": "https://localhost:8080/",
          "height": 206
        },
        "outputId": "8c1cc93e-175a-462c-a80b-6c838ca2825d"
      },
      "source": [
        "# Read the user data\n",
        "# Some columns such as name, email address are not useful here\n",
        "# Let's not read them in\n",
        "cols = ['object_id', 'creation_source', 'creation_time', \n",
        "        'last_session_creation_time', 'opted_in_to_mailing_list',\n",
        "        'enabled_for_marketing_drip', 'org_id', 'invited_by_user_id']\n",
        "users = pd.read_csv('takehome_users.csv', usecols=cols)\n",
        "users.head()"
      ],
      "execution_count": 8,
      "outputs": [
        {
          "output_type": "execute_result",
          "data": {
            "text/html": [
              "<div>\n",
              "<style scoped>\n",
              "    .dataframe tbody tr th:only-of-type {\n",
              "        vertical-align: middle;\n",
              "    }\n",
              "\n",
              "    .dataframe tbody tr th {\n",
              "        vertical-align: top;\n",
              "    }\n",
              "\n",
              "    .dataframe thead th {\n",
              "        text-align: right;\n",
              "    }\n",
              "</style>\n",
              "<table border=\"1\" class=\"dataframe\">\n",
              "  <thead>\n",
              "    <tr style=\"text-align: right;\">\n",
              "      <th></th>\n",
              "      <th>object_id</th>\n",
              "      <th>creation_time</th>\n",
              "      <th>creation_source</th>\n",
              "      <th>last_session_creation_time</th>\n",
              "      <th>opted_in_to_mailing_list</th>\n",
              "      <th>enabled_for_marketing_drip</th>\n",
              "      <th>org_id</th>\n",
              "      <th>invited_by_user_id</th>\n",
              "    </tr>\n",
              "  </thead>\n",
              "  <tbody>\n",
              "    <tr>\n",
              "      <th>0</th>\n",
              "      <td>1</td>\n",
              "      <td>2014-04-22 03:53:30</td>\n",
              "      <td>GUEST_INVITE</td>\n",
              "      <td>1.398139e+09</td>\n",
              "      <td>1</td>\n",
              "      <td>0</td>\n",
              "      <td>11</td>\n",
              "      <td>10803.0</td>\n",
              "    </tr>\n",
              "    <tr>\n",
              "      <th>1</th>\n",
              "      <td>2</td>\n",
              "      <td>2013-11-15 03:45:04</td>\n",
              "      <td>ORG_INVITE</td>\n",
              "      <td>1.396238e+09</td>\n",
              "      <td>0</td>\n",
              "      <td>0</td>\n",
              "      <td>1</td>\n",
              "      <td>316.0</td>\n",
              "    </tr>\n",
              "    <tr>\n",
              "      <th>2</th>\n",
              "      <td>3</td>\n",
              "      <td>2013-03-19 23:14:52</td>\n",
              "      <td>ORG_INVITE</td>\n",
              "      <td>1.363735e+09</td>\n",
              "      <td>0</td>\n",
              "      <td>0</td>\n",
              "      <td>94</td>\n",
              "      <td>1525.0</td>\n",
              "    </tr>\n",
              "    <tr>\n",
              "      <th>3</th>\n",
              "      <td>4</td>\n",
              "      <td>2013-05-21 08:09:28</td>\n",
              "      <td>GUEST_INVITE</td>\n",
              "      <td>1.369210e+09</td>\n",
              "      <td>0</td>\n",
              "      <td>0</td>\n",
              "      <td>1</td>\n",
              "      <td>5151.0</td>\n",
              "    </tr>\n",
              "    <tr>\n",
              "      <th>4</th>\n",
              "      <td>5</td>\n",
              "      <td>2013-01-17 10:14:20</td>\n",
              "      <td>GUEST_INVITE</td>\n",
              "      <td>1.358850e+09</td>\n",
              "      <td>0</td>\n",
              "      <td>0</td>\n",
              "      <td>193</td>\n",
              "      <td>5240.0</td>\n",
              "    </tr>\n",
              "  </tbody>\n",
              "</table>\n",
              "</div>"
            ],
            "text/plain": [
              "   object_id        creation_time  ... org_id  invited_by_user_id\n",
              "0          1  2014-04-22 03:53:30  ...     11             10803.0\n",
              "1          2  2013-11-15 03:45:04  ...      1               316.0\n",
              "2          3  2013-03-19 23:14:52  ...     94              1525.0\n",
              "3          4  2013-05-21 08:09:28  ...      1              5151.0\n",
              "4          5  2013-01-17 10:14:20  ...    193              5240.0\n",
              "\n",
              "[5 rows x 8 columns]"
            ]
          },
          "metadata": {
            "tags": []
          },
          "execution_count": 8
        }
      ]
    },
    {
      "cell_type": "markdown",
      "metadata": {
        "id": "zkDUQi7qcZ5A",
        "colab_type": "text"
      },
      "source": [
        "There were likely that there were too many organizations and user invites to model. Let's do a quick survey of organizations with the most users and users who sent out most invites. Then we drop those two features."
      ]
    },
    {
      "cell_type": "code",
      "metadata": {
        "id": "zLLjT1EpcX8e",
        "colab_type": "code",
        "colab": {
          "base_uri": "https://localhost:8080/",
          "height": 127
        },
        "outputId": "7ac3ddfa-36b0-4a19-ed0f-d326a65d11fb"
      },
      "source": [
        "# 5 Organizations with most users\n",
        "users['org_id'].value_counts().head()"
      ],
      "execution_count": 9,
      "outputs": [
        {
          "output_type": "execute_result",
          "data": {
            "text/plain": [
              "0    319\n",
              "1    233\n",
              "2    201\n",
              "3    168\n",
              "4    159\n",
              "Name: org_id, dtype: int64"
            ]
          },
          "metadata": {
            "tags": []
          },
          "execution_count": 9
        }
      ]
    },
    {
      "cell_type": "code",
      "metadata": {
        "id": "YRSXVVDdcc4N",
        "colab_type": "code",
        "colab": {
          "base_uri": "https://localhost:8080/",
          "height": 127
        },
        "outputId": "30a38ae5-44b6-4ed8-b209-0a1068880533"
      },
      "source": [
        "# 5 Users with most invites\n",
        "users['invited_by_user_id'].value_counts().head()"
      ],
      "execution_count": 10,
      "outputs": [
        {
          "output_type": "execute_result",
          "data": {
            "text/plain": [
              "10741.0    13\n",
              "2527.0     12\n",
              "2308.0     11\n",
              "1525.0     11\n",
              "11770.0    11\n",
              "Name: invited_by_user_id, dtype: int64"
            ]
          },
          "metadata": {
            "tags": []
          },
          "execution_count": 10
        }
      ]
    },
    {
      "cell_type": "code",
      "metadata": {
        "id": "cjR16IUdcf48",
        "colab_type": "code",
        "colab": {}
      },
      "source": [
        "# remove those two features\n",
        "users = users.drop(['org_id', 'invited_by_user_id'], axis=1)"
      ],
      "execution_count": 11,
      "outputs": []
    },
    {
      "cell_type": "markdown",
      "metadata": {
        "id": "-Jnc9q_ccjoc",
        "colab_type": "text"
      },
      "source": [
        "From creation time and last session time, we can engineer two features that can be useful. It is possible that the history of using the service might be a factor of becoming \"adopted users\". In other words, users who have used the service for a long time might be more likely as \"adopted users\" than those who just signed up. It is likely that user adoption rate vary through time, so it is useful to take a look at account age (based on creation time) as well."
      ]
    },
    {
      "cell_type": "code",
      "metadata": {
        "id": "SB7OIjdccktC",
        "colab_type": "code",
        "colab": {}
      },
      "source": [
        "# Create feature for user history\n",
        "# Convert both time features into datetime\n",
        "users['creation_time'] = pd.to_datetime(\n",
        "    users['creation_time'], format='%Y-%m-%d %H:%M:%S')\n",
        "users['last_session_creation_time'] = pd.to_datetime(\n",
        "    users['last_session_creation_time'], unit='s')\n",
        "\n",
        "# Calculate user history, defined as number of days between account creation and last use\n",
        "users['history'] = users['last_session_creation_time'] - users['creation_time']\n",
        "users['history'] = users['history'].dt.days\n",
        "\n",
        "# Calculate account age, defined as number of days since account creation and now\n",
        "# Not sure when this dataset was collected. Let's use latest date in creation_time\n",
        "latest = max(users['creation_time'])\n",
        "users['account_age'] = latest - users['creation_time']\n",
        "users['account_age'] = users['account_age'].dt.days\n",
        "\n",
        "# Drop the two original columns\n",
        "users = users.drop(['creation_time', 'last_session_creation_time'], axis=1)"
      ],
      "execution_count": 12,
      "outputs": []
    },
    {
      "cell_type": "code",
      "metadata": {
        "id": "6DHUcSGOcod2",
        "colab_type": "code",
        "colab": {
          "base_uri": "https://localhost:8080/",
          "height": 206
        },
        "outputId": "db6415a9-dbed-41a1-fe1f-6d98ac6c28f5"
      },
      "source": [
        "users.head()"
      ],
      "execution_count": 13,
      "outputs": [
        {
          "output_type": "execute_result",
          "data": {
            "text/html": [
              "<div>\n",
              "<style scoped>\n",
              "    .dataframe tbody tr th:only-of-type {\n",
              "        vertical-align: middle;\n",
              "    }\n",
              "\n",
              "    .dataframe tbody tr th {\n",
              "        vertical-align: top;\n",
              "    }\n",
              "\n",
              "    .dataframe thead th {\n",
              "        text-align: right;\n",
              "    }\n",
              "</style>\n",
              "<table border=\"1\" class=\"dataframe\">\n",
              "  <thead>\n",
              "    <tr style=\"text-align: right;\">\n",
              "      <th></th>\n",
              "      <th>object_id</th>\n",
              "      <th>creation_source</th>\n",
              "      <th>opted_in_to_mailing_list</th>\n",
              "      <th>enabled_for_marketing_drip</th>\n",
              "      <th>history</th>\n",
              "      <th>account_age</th>\n",
              "    </tr>\n",
              "  </thead>\n",
              "  <tbody>\n",
              "    <tr>\n",
              "      <th>0</th>\n",
              "      <td>1</td>\n",
              "      <td>GUEST_INVITE</td>\n",
              "      <td>1</td>\n",
              "      <td>0</td>\n",
              "      <td>0.0</td>\n",
              "      <td>38</td>\n",
              "    </tr>\n",
              "    <tr>\n",
              "      <th>1</th>\n",
              "      <td>2</td>\n",
              "      <td>ORG_INVITE</td>\n",
              "      <td>0</td>\n",
              "      <td>0</td>\n",
              "      <td>136.0</td>\n",
              "      <td>196</td>\n",
              "    </tr>\n",
              "    <tr>\n",
              "      <th>2</th>\n",
              "      <td>3</td>\n",
              "      <td>ORG_INVITE</td>\n",
              "      <td>0</td>\n",
              "      <td>0</td>\n",
              "      <td>0.0</td>\n",
              "      <td>437</td>\n",
              "    </tr>\n",
              "    <tr>\n",
              "      <th>3</th>\n",
              "      <td>4</td>\n",
              "      <td>GUEST_INVITE</td>\n",
              "      <td>0</td>\n",
              "      <td>0</td>\n",
              "      <td>1.0</td>\n",
              "      <td>374</td>\n",
              "    </tr>\n",
              "    <tr>\n",
              "      <th>4</th>\n",
              "      <td>5</td>\n",
              "      <td>GUEST_INVITE</td>\n",
              "      <td>0</td>\n",
              "      <td>0</td>\n",
              "      <td>5.0</td>\n",
              "      <td>498</td>\n",
              "    </tr>\n",
              "  </tbody>\n",
              "</table>\n",
              "</div>"
            ],
            "text/plain": [
              "   object_id creation_source  ...  history  account_age\n",
              "0          1    GUEST_INVITE  ...      0.0           38\n",
              "1          2      ORG_INVITE  ...    136.0          196\n",
              "2          3      ORG_INVITE  ...      0.0          437\n",
              "3          4    GUEST_INVITE  ...      1.0          374\n",
              "4          5    GUEST_INVITE  ...      5.0          498\n",
              "\n",
              "[5 rows x 6 columns]"
            ]
          },
          "metadata": {
            "tags": []
          },
          "execution_count": 13
        }
      ]
    },
    {
      "cell_type": "code",
      "metadata": {
        "id": "KuoQJ9Uxcqs6",
        "colab_type": "code",
        "colab": {
          "base_uri": "https://localhost:8080/",
          "height": 256
        },
        "outputId": "1668853c-b507-4611-e0f1-a4e004a854d2"
      },
      "source": [
        "users.info()"
      ],
      "execution_count": 14,
      "outputs": [
        {
          "output_type": "stream",
          "text": [
            "<class 'pandas.core.frame.DataFrame'>\n",
            "RangeIndex: 12000 entries, 0 to 11999\n",
            "Data columns (total 6 columns):\n",
            " #   Column                      Non-Null Count  Dtype  \n",
            "---  ------                      --------------  -----  \n",
            " 0   object_id                   12000 non-null  int64  \n",
            " 1   creation_source             12000 non-null  object \n",
            " 2   opted_in_to_mailing_list    12000 non-null  int64  \n",
            " 3   enabled_for_marketing_drip  12000 non-null  int64  \n",
            " 4   history                     8823 non-null   float64\n",
            " 5   account_age                 12000 non-null  int64  \n",
            "dtypes: float64(1), int64(4), object(1)\n",
            "memory usage: 562.6+ KB\n"
          ],
          "name": "stdout"
        }
      ]
    },
    {
      "cell_type": "markdown",
      "metadata": {
        "id": "KcUCA9adcuZm",
        "colab_type": "text"
      },
      "source": [
        "There were 8823 users who had \"user history\" out of 12000. Given there are users who has history of 0 days, I think engagement data for the other users were missing. So I will remove these users from the analysis."
      ]
    },
    {
      "cell_type": "code",
      "metadata": {
        "id": "p_047cspcslh",
        "colab_type": "code",
        "colab": {}
      },
      "source": [
        "# Merge user data and \"adopted user\" variable\n",
        "users = users.set_index('object_id')\n",
        "users.index.name = 'user_id'\n",
        "data = pd.concat([users, adopted], axis=1, join='inner')\n",
        "data['adopted_user'] = data['adopted_user'].astype(int)"
      ],
      "execution_count": 15,
      "outputs": []
    },
    {
      "cell_type": "markdown",
      "metadata": {
        "id": "oqC1JOMpcyCO",
        "colab_type": "text"
      },
      "source": [
        "## **Exploratory Data Analysis**"
      ]
    },
    {
      "cell_type": "code",
      "metadata": {
        "id": "CQUeQ8Lnc28L",
        "colab_type": "code",
        "colab": {
          "base_uri": "https://localhost:8080/",
          "height": 387
        },
        "outputId": "627b4092-86bd-4ec8-e873-4d73d7e3d1ff"
      },
      "source": [
        "# Creation source and adopted user\n",
        "_ = sns.countplot(x='creation_source', data=data, hue='adopted_user')\n",
        "_ = plt.xticks(rotation=90)"
      ],
      "execution_count": 16,
      "outputs": [
        {
          "output_type": "display_data",
          "data": {
            "image/png": "[encoded data removed]",
            "text/plain": [
              "<Figure size 432x288 with 1 Axes>"
            ]
          },
          "metadata": {
            "tags": [],
            "needs_background": "light"
          }
        }
      ]
    },
    {
      "cell_type": "code",
      "metadata": {
        "id": "1Xpg4DZ4c5SS",
        "colab_type": "code",
        "colab": {
          "base_uri": "https://localhost:8080/",
          "height": 35
        },
        "outputId": "c24351c7-5808-46b8-c597-1bd21905577c"
      },
      "source": [
        "# Doesn't look like much difference among creation sources\n",
        "# Let's do a chi2 test\n",
        "from scipy.stats import chi2_contingency\n",
        "crosstab = pd.crosstab(data['creation_source'], data['adopted_user'])\n",
        "results = chi2_contingency(crosstab)\n",
        "print('chi2 = {}\\tp = {}'.format(results[0], results[1]))"
      ],
      "execution_count": 17,
      "outputs": [
        {
          "output_type": "stream",
          "text": [
            "chi2 = 41.27933208242451\tp = 2.3526508745340972e-08\n"
          ],
          "name": "stdout"
        }
      ]
    },
    {
      "cell_type": "code",
      "metadata": {
        "id": "_8jL5ckyc8CF",
        "colab_type": "code",
        "colab": {
          "base_uri": "https://localhost:8080/",
          "height": 146
        },
        "outputId": "3e7254c7-9825-45d9-9388-3efdcefe8c1c"
      },
      "source": [
        "# chi2 test significant, but how much was the difference?\n",
        "data.groupby('creation_source')['adopted_user'].apply(lambda x: sum(x)/len(x))"
      ],
      "execution_count": 18,
      "outputs": [
        {
          "output_type": "execute_result",
          "data": {
            "text/plain": [
              "creation_source\n",
              "GUEST_INVITE          0.232368\n",
              "ORG_INVITE            0.180050\n",
              "PERSONAL_PROJECTS     0.225131\n",
              "SIGNUP                0.159115\n",
              "SIGNUP_GOOGLE_AUTH    0.172563\n",
              "Name: adopted_user, dtype: float64"
            ]
          },
          "metadata": {
            "tags": []
          },
          "execution_count": 18
        }
      ]
    },
    {
      "cell_type": "markdown",
      "metadata": {
        "id": "oufCNvySc-pM",
        "colab_type": "text"
      },
      "source": [
        "A slightly higher \"adopted user\" rate in guest_invite and personal_projects, which that makes sense because users who got invite probably was collaborating with others, and users who have personal projects are likely to have more personal interest that make them more engaged.\n"
      ]
    },
    {
      "cell_type": "code",
      "metadata": {
        "id": "IVMiDiu4c9J6",
        "colab_type": "code",
        "colab": {
          "base_uri": "https://localhost:8080/",
          "height": 90
        },
        "outputId": "6d6879c5-7905-4916-fdf0-fcab4dfa0590"
      },
      "source": [
        "# Check mailing list and marketing drip\n",
        "data.groupby('opted_in_to_mailing_list')['adopted_user'].apply(lambda x: sum(x)/len(x))"
      ],
      "execution_count": 19,
      "outputs": [
        {
          "output_type": "execute_result",
          "data": {
            "text/plain": [
              "opted_in_to_mailing_list\n",
              "0    0.185994\n",
              "1    0.192722\n",
              "Name: adopted_user, dtype: float64"
            ]
          },
          "metadata": {
            "tags": []
          },
          "execution_count": 19
        }
      ]
    },
    {
      "cell_type": "code",
      "metadata": {
        "id": "RTBsddbSdDpB",
        "colab_type": "code",
        "colab": {
          "base_uri": "https://localhost:8080/",
          "height": 35
        },
        "outputId": "00c8f7c0-361c-4431-fea5-a751886b57dc"
      },
      "source": [
        "def z_test(df, col, target='adopted_user'):\n",
        "    from statsmodels.stats.weightstats import CompareMeans\n",
        "    opted_in = df.loc[data[col]==1, target]\n",
        "    opted_out = df.loc[data[col]==0, target]\n",
        "    z_data = CompareMeans.from_data(opted_in, opted_out)\n",
        "    z, p = CompareMeans.ztest_ind(z_data)\n",
        "    print('For {}, z = {}, p = {}'.format(col, z, p))\n",
        "z_test(data, 'opted_in_to_mailing_list')"
      ],
      "execution_count": 20,
      "outputs": [
        {
          "output_type": "stream",
          "text": [
            "For opted_in_to_mailing_list, z = 0.7029779128148235, p = 0.4820695142048762\n"
          ],
          "name": "stdout"
        }
      ]
    },
    {
      "cell_type": "code",
      "metadata": {
        "id": "-AO4dOOYdFwv",
        "colab_type": "code",
        "colab": {
          "base_uri": "https://localhost:8080/",
          "height": 90
        },
        "outputId": "b77a8bd0-9acf-42f8-e0ce-e5da9ba1d689"
      },
      "source": [
        "data.groupby('enabled_for_marketing_drip')['adopted_user'].apply(lambda x: sum(x)/len(x))"
      ],
      "execution_count": 21,
      "outputs": [
        {
          "output_type": "execute_result",
          "data": {
            "text/plain": [
              "enabled_for_marketing_drip\n",
              "0    0.186982\n",
              "1    0.191648\n",
              "Name: adopted_user, dtype: float64"
            ]
          },
          "metadata": {
            "tags": []
          },
          "execution_count": 21
        }
      ]
    },
    {
      "cell_type": "code",
      "metadata": {
        "id": "yb2U1UGodIVK",
        "colab_type": "code",
        "colab": {
          "base_uri": "https://localhost:8080/",
          "height": 35
        },
        "outputId": "816eb12a-19de-4b71-ee95-87d6b8f845f6"
      },
      "source": [
        "z_test(data, 'enabled_for_marketing_drip')"
      ],
      "execution_count": 22,
      "outputs": [
        {
          "output_type": "stream",
          "text": [
            "For enabled_for_marketing_drip, z = 0.40292649500940264, p = 0.6870022995069656\n"
          ],
          "name": "stdout"
        }
      ]
    },
    {
      "cell_type": "markdown",
      "metadata": {
        "id": "u6ZYi2T0dKHc",
        "colab_type": "text"
      },
      "source": [
        "There was really no difference between users who signed up or not for mailing list and marketing drip.\n"
      ]
    },
    {
      "cell_type": "code",
      "metadata": {
        "id": "jhc2NY0sdLK4",
        "colab_type": "code",
        "colab": {
          "base_uri": "https://localhost:8080/",
          "height": 279
        },
        "outputId": "d66e53d1-7184-4018-d86a-6ba3c4a2d96a"
      },
      "source": [
        "# History and adopted user\n",
        "def plot_hist_days(df, col, xlabel):\n",
        "    _ = plt.hist(df.loc[data['adopted_user']==1, col], \n",
        "                 bins=30, alpha=0.3, color='b', label='adopted user')\n",
        "    _ = plt.hist(df.loc[data['adopted_user']==0, col], \n",
        "                 bins=30, alpha=0.3, color='r', label='non adopted user')\n",
        "    _ = plt.yscale('log')\n",
        "    _ = plt.legend()\n",
        "    _ = plt.xlabel(xlabel)\n",
        "    _ = plt.ylabel('No. of users')\n",
        "    _ = plt.yticks([1, 10, 100, 1000], ['1', '10', '100', '1000'])\n",
        "plot_hist_days(data, 'history', 'user history(days)')"
      ],
      "execution_count": 23,
      "outputs": [
        {
          "output_type": "display_data",
          "data": {
            "image/png": "[encoded data removed]",
            "text/plain": [
              "<Figure size 432x288 with 1 Axes>"
            ]
          },
          "metadata": {
            "tags": [],
            "needs_background": "light"
          }
        }
      ]
    },
    {
      "cell_type": "markdown",
      "metadata": {
        "id": "4l7RUjB0dNza",
        "colab_type": "text"
      },
      "source": [
        "Pretty clear that users with long history are more likely to be adopted users.\n"
      ]
    },
    {
      "cell_type": "code",
      "metadata": {
        "id": "MzAH92NFdPpy",
        "colab_type": "code",
        "colab": {
          "base_uri": "https://localhost:8080/",
          "height": 283
        },
        "outputId": "dfe0c693-e69c-48da-8283-2c873a4ffdea"
      },
      "source": [
        "plot_hist_days(data, 'account_age', 'account age(days)')"
      ],
      "execution_count": 24,
      "outputs": [
        {
          "output_type": "display_data",
          "data": {
            "image/png": "[encoded data removed]",
            "text/plain": [
              "<Figure size 432x288 with 1 Axes>"
            ]
          },
          "metadata": {
            "tags": [],
            "needs_background": "light"
          }
        }
      ]
    },
    {
      "cell_type": "markdown",
      "metadata": {
        "id": "YK_PIGqfdSX8",
        "colab_type": "text"
      },
      "source": [
        "The adoption rate is lower in very new accounts. Other than that, the adoption rate didn't change much over the past two years.\n"
      ]
    },
    {
      "cell_type": "markdown",
      "metadata": {
        "id": "Yr-MxhZ9dVVc",
        "colab_type": "text"
      },
      "source": [
        "## **Predictive Modeling**"
      ]
    },
    {
      "cell_type": "code",
      "metadata": {
        "id": "BfuJY3nZdTeP",
        "colab_type": "code",
        "colab": {}
      },
      "source": [
        "# Make dummy variable for creation source\n",
        "creation_source = pd.get_dummies(data['creation_source'], drop_first=True)\n",
        "model_data = pd.concat([data, creation_source], axis=1).drop('creation_source', axis=1)\n",
        "y = model_data['adopted_user']\n",
        "X = model_data.drop('adopted_user', axis=1)\n",
        "# Although account_age and history have different scales than other features,\n",
        "# Planning to use random forest model, which is not affected by the different scales\n",
        "# There is no need to scale the data\n",
        "# Create training and testing sets\n",
        "from sklearn.model_selection import train_test_split\n",
        "Xtrain, Xtest, ytrain, ytest = train_test_split(\n",
        "    X, y, stratify=y, random_state=42)"
      ],
      "execution_count": 25,
      "outputs": []
    },
    {
      "cell_type": "code",
      "metadata": {
        "id": "pJTXgkfUdbMC",
        "colab_type": "code",
        "colab": {
          "base_uri": "https://localhost:8080/",
          "height": 54
        },
        "outputId": "9bb7cea6-6f42-459f-d294-5002b1ce31a7"
      },
      "source": [
        "# Use random forest model with balanced class weights to correct for imbalance in the data\n",
        "from sklearn.ensemble import RandomForestClassifier\n",
        "from sklearn.model_selection import GridSearchCV\n",
        "clf = RandomForestClassifier(random_state=42, class_weight='balanced')\n",
        "# Use CV to tune number of trees\n",
        "params = {'n_estimators': [10, 50, 100, 200]}\n",
        "model = GridSearchCV(clf, params)\n",
        "model.fit(Xtrain, ytrain)\n",
        "print('Best parameters were', model.best_params_)\n",
        "print('Best average precision was', model.best_score_)"
      ],
      "execution_count": 26,
      "outputs": [
        {
          "output_type": "stream",
          "text": [
            "Best parameters were {'n_estimators': 50}\n",
            "Best average precision was 0.962521322728487\n"
          ],
          "name": "stdout"
        }
      ]
    },
    {
      "cell_type": "code",
      "metadata": {
        "id": "-NQY99ThddAR",
        "colab_type": "code",
        "colab": {
          "base_uri": "https://localhost:8080/",
          "height": 201
        },
        "outputId": "bc92cfa2-dd28-48b4-da52-bfd78257dd30"
      },
      "source": [
        "# Evaluation of model\n",
        "from sklearn.metrics import classification_report, accuracy_score\n",
        "model = RandomForestClassifier(\n",
        "    random_state=42, class_weight='balanced', n_estimators=100\n",
        ")\n",
        "model.fit(Xtrain, ytrain)\n",
        "ypred = model.predict(Xtest)\n",
        "print('Accuracy of test set was', accuracy_score(ytest, ypred))\n",
        "print(classification_report(ytest, ypred))"
      ],
      "execution_count": 27,
      "outputs": [
        {
          "output_type": "stream",
          "text": [
            "Accuracy of test set was 0.9524025385312783\n",
            "              precision    recall  f1-score   support\n",
            "\n",
            "           0       0.97      0.97      0.97      1792\n",
            "           1       0.88      0.86      0.87       414\n",
            "\n",
            "    accuracy                           0.95      2206\n",
            "   macro avg       0.92      0.92      0.92      2206\n",
            "weighted avg       0.95      0.95      0.95      2206\n",
            "\n"
          ],
          "name": "stdout"
        }
      ]
    },
    {
      "cell_type": "code",
      "metadata": {
        "id": "wP7JXyt1dfuu",
        "colab_type": "code",
        "colab": {
          "base_uri": "https://localhost:8080/",
          "height": 182
        },
        "outputId": "9f118743-c3c5-4af0-c348-8d015d04fca3"
      },
      "source": [
        "# Taking a look at feature importance\n",
        "importance = pd.Series(model.feature_importances_, index=X.columns)\n",
        "importance = importance.sort_values(ascending=False)\n",
        "print(importance)"
      ],
      "execution_count": 28,
      "outputs": [
        {
          "output_type": "stream",
          "text": [
            "history                       0.896213\n",
            "account_age                   0.088842\n",
            "opted_in_to_mailing_list      0.003002\n",
            "SIGNUP                        0.002919\n",
            "enabled_for_marketing_drip    0.002682\n",
            "ORG_INVITE                    0.002350\n",
            "PERSONAL_PROJECTS             0.002069\n",
            "SIGNUP_GOOGLE_AUTH            0.001923\n",
            "dtype: float64\n"
          ],
          "name": "stdout"
        }
      ]
    },
    {
      "cell_type": "markdown",
      "metadata": {
        "id": "vrQDzTnu-tUp",
        "colab_type": "text"
      },
      "source": [
        "## **Conclusion and Recommendation**"
      ]
    },
    {
      "cell_type": "markdown",
      "metadata": {
        "id": "JqPdIw0RdgqK",
        "colab_type": "text"
      },
      "source": [
        "The user history is the most important feature. Based on this, I recommend that an effective way of growing adopted users might be encouraging existing users to log in and use the service after they had accounts for a while.\n",
        "\n",
        "The next important feature is how user signed up. Among the ways they sign up, guest invitation and personal projects are two categories with the highest user adoption rate. Encouraging users to invite others, and offering incentives for people to work on their personal projects using the service might be somewhat effective.\n",
        "Account age has some importance, but there is nothing can be done to change that. Mailing list and marketing drip are not effective.\n"
      ]
    }
  ]
}