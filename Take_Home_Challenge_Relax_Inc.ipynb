{
  "nbformat": 4,
  "nbformat_minor": 0,
  "metadata": {
    "colab": {
      "name": "Take-Home Challenge: Relax Inc.ipynb",
      "provenance": [],
      "collapsed_sections": [],
      "toc_visible": true,
      "authorship_tag": "ABX9TyMxuyB52Y9gk3ZWkMHSTShE"
    },
    "kernelspec": {
      "name": "python3",
      "display_name": "Python 3"
    }
  },
  "cells": [
    {
      "cell_type": "markdown",
      "metadata": {
        "id": "fcvXjZ2thVc9",
        "colab_type": "text"
      },
      "source": [
        "## **Import Libraries**"
      ]
    },
    {
      "cell_type": "code",
      "metadata": {
        "id": "T-KXWw04U5Jl",
        "colab_type": "code",
        "colab": {
          "base_uri": "https://localhost:8080/",
          "height": 54
        },
        "outputId": "bc0618d3-22c7-4d3e-8e80-d51150905a98"
      },
      "source": [
        "import pandas as pd\n",
        "import numpy as np\n",
        "from datetime import datetime\n",
        "from datetime import timedelta\n",
        "import seaborn as sns\n",
        "import matplotlib.pyplot as plt\n",
        "import matplotlib as mpl \n",
        "import pandas.util.testing as tm\n",
        "%matplotlib inline\n",
        "mpl.rcParams['patch.force_edgecolor'] = True\n",
        "sns.set()"
      ],
      "execution_count": 1,
      "outputs": [
        {
          "output_type": "stream",
          "text": [
            "/usr/local/lib/python3.6/dist-packages/statsmodels/tools/_testing.py:19: FutureWarning: pandas.util.testing is deprecated. Use the functions in the public API at pandas.testing instead.\n",
            "  import pandas.util.testing as tm\n"
          ],
          "name": "stderr"
        }
      ]
    },
    {
      "cell_type": "markdown",
      "metadata": {
        "id": "7Cn-2xeJdCQS",
        "colab_type": "text"
      },
      "source": [
        "## **Data Wrangling**"
      ]
    },
    {
      "cell_type": "markdown",
      "metadata": {
        "id": "0nFohXCldSOp",
        "colab_type": "text"
      },
      "source": [
        "To simplify the process, we will remove hour, min, sec info since an \"adopted\" user is based on days."
      ]
    },
    {
      "cell_type": "code",
      "metadata": {
        "id": "UETo30osc_qB",
        "colab_type": "code",
        "colab": {
          "base_uri": "https://localhost:8080/",
          "height": 280
        },
        "outputId": "9f95fc5a-70c3-49f2-f124-b027f9b2da25"
      },
      "source": [
        "#Import and process data\n",
        "df_engagement = pd.read_csv('takehome_user_engagement.csv')\n",
        "\n",
        "# Convert dates to datetime objects\n",
        "df_engagement['time_stamp'] = list(map(lambda x: datetime.strptime(x.split()[0],'%Y-%m-%d'), df_engagement['time_stamp'])) # also removes hour, min, sec\n",
        "\n",
        "print(\"Rows, columns: \", df_engagement.shape)\n",
        "print(\"Earliest time_stamp: \", df_engagement['time_stamp'].min())\n",
        "print(\"Latest time_stamp: \", df_engagement['time_stamp'].max(), '\\n')\n",
        "df_engagement.head()"
      ],
      "execution_count": 2,
      "outputs": [
        {
          "output_type": "stream",
          "text": [
            "Rows, columns:  (207917, 3)\n",
            "Earliest time_stamp:  2012-05-31 00:00:00\n",
            "Latest time_stamp:  2014-06-06 00:00:00 \n",
            "\n"
          ],
          "name": "stdout"
        },
        {
          "output_type": "execute_result",
          "data": {
            "text/html": [
              "<div>\n",
              "<style scoped>\n",
              "    .dataframe tbody tr th:only-of-type {\n",
              "        vertical-align: middle;\n",
              "    }\n",
              "\n",
              "    .dataframe tbody tr th {\n",
              "        vertical-align: top;\n",
              "    }\n",
              "\n",
              "    .dataframe thead th {\n",
              "        text-align: right;\n",
              "    }\n",
              "</style>\n",
              "<table border=\"1\" class=\"dataframe\">\n",
              "  <thead>\n",
              "    <tr style=\"text-align: right;\">\n",
              "      <th></th>\n",
              "      <th>time_stamp</th>\n",
              "      <th>user_id</th>\n",
              "      <th>visited</th>\n",
              "    </tr>\n",
              "  </thead>\n",
              "  <tbody>\n",
              "    <tr>\n",
              "      <th>0</th>\n",
              "      <td>2014-04-22</td>\n",
              "      <td>1</td>\n",
              "      <td>1</td>\n",
              "    </tr>\n",
              "    <tr>\n",
              "      <th>1</th>\n",
              "      <td>2013-11-15</td>\n",
              "      <td>2</td>\n",
              "      <td>1</td>\n",
              "    </tr>\n",
              "    <tr>\n",
              "      <th>2</th>\n",
              "      <td>2013-11-29</td>\n",
              "      <td>2</td>\n",
              "      <td>1</td>\n",
              "    </tr>\n",
              "    <tr>\n",
              "      <th>3</th>\n",
              "      <td>2013-12-09</td>\n",
              "      <td>2</td>\n",
              "      <td>1</td>\n",
              "    </tr>\n",
              "    <tr>\n",
              "      <th>4</th>\n",
              "      <td>2013-12-25</td>\n",
              "      <td>2</td>\n",
              "      <td>1</td>\n",
              "    </tr>\n",
              "  </tbody>\n",
              "</table>\n",
              "</div>"
            ],
            "text/plain": [
              "  time_stamp  user_id  visited\n",
              "0 2014-04-22        1        1\n",
              "1 2013-11-15        2        1\n",
              "2 2013-11-29        2        1\n",
              "3 2013-12-09        2        1\n",
              "4 2013-12-25        2        1"
            ]
          },
          "metadata": {
            "tags": []
          },
          "execution_count": 2
        }
      ]
    },
    {
      "cell_type": "code",
      "metadata": {
        "id": "JF-EDqnddpiN",
        "colab_type": "code",
        "colab": {
          "base_uri": "https://localhost:8080/",
          "height": 368
        },
        "outputId": "ddf6d497-1d42-4f13-e1a3-d4744abd4b31"
      },
      "source": [
        "# Import data\n",
        "df_users = pd.read_csv('takehome_users.csv',  encoding='latin-1')\n",
        "\n",
        "# Convert dates to datetime objects\n",
        "df_users['creation_time'] = list(map(lambda x: datetime.strptime(x.split()[0],'%Y-%m-%d'), df_users['creation_time'])) # also removes hour, min, sec\n",
        "\n",
        "print(\"Rows, columns: \", df_users.shape)\n",
        "print(\"Earliest creation_time: \", df_users['creation_time'].min())\n",
        "print(\"Latest creation_time: \", df_users['creation_time'].max())\n",
        "df_users.head()"
      ],
      "execution_count": 3,
      "outputs": [
        {
          "output_type": "stream",
          "text": [
            "Rows, columns:  (12000, 10)\n",
            "Earliest creation_time:  2012-05-31 00:00:00\n",
            "Latest creation_time:  2014-05-30 00:00:00\n"
          ],
          "name": "stdout"
        },
        {
          "output_type": "execute_result",
          "data": {
            "text/html": [
              "<div>\n",
              "<style scoped>\n",
              "    .dataframe tbody tr th:only-of-type {\n",
              "        vertical-align: middle;\n",
              "    }\n",
              "\n",
              "    .dataframe tbody tr th {\n",
              "        vertical-align: top;\n",
              "    }\n",
              "\n",
              "    .dataframe thead th {\n",
              "        text-align: right;\n",
              "    }\n",
              "</style>\n",
              "<table border=\"1\" class=\"dataframe\">\n",
              "  <thead>\n",
              "    <tr style=\"text-align: right;\">\n",
              "      <th></th>\n",
              "      <th>object_id</th>\n",
              "      <th>creation_time</th>\n",
              "      <th>name</th>\n",
              "      <th>email</th>\n",
              "      <th>creation_source</th>\n",
              "      <th>last_session_creation_time</th>\n",
              "      <th>opted_in_to_mailing_list</th>\n",
              "      <th>enabled_for_marketing_drip</th>\n",
              "      <th>org_id</th>\n",
              "      <th>invited_by_user_id</th>\n",
              "    </tr>\n",
              "  </thead>\n",
              "  <tbody>\n",
              "    <tr>\n",
              "      <th>0</th>\n",
              "      <td>1</td>\n",
              "      <td>2014-04-22</td>\n",
              "      <td>Clausen August</td>\n",
              "      <td>AugustCClausen@yahoo.com</td>\n",
              "      <td>GUEST_INVITE</td>\n",
              "      <td>1.398139e+09</td>\n",
              "      <td>1</td>\n",
              "      <td>0</td>\n",
              "      <td>11</td>\n",
              "      <td>10803.0</td>\n",
              "    </tr>\n",
              "    <tr>\n",
              "      <th>1</th>\n",
              "      <td>2</td>\n",
              "      <td>2013-11-15</td>\n",
              "      <td>Poole Matthew</td>\n",
              "      <td>MatthewPoole@gustr.com</td>\n",
              "      <td>ORG_INVITE</td>\n",
              "      <td>1.396238e+09</td>\n",
              "      <td>0</td>\n",
              "      <td>0</td>\n",
              "      <td>1</td>\n",
              "      <td>316.0</td>\n",
              "    </tr>\n",
              "    <tr>\n",
              "      <th>2</th>\n",
              "      <td>3</td>\n",
              "      <td>2013-03-19</td>\n",
              "      <td>Bottrill Mitchell</td>\n",
              "      <td>MitchellBottrill@gustr.com</td>\n",
              "      <td>ORG_INVITE</td>\n",
              "      <td>1.363735e+09</td>\n",
              "      <td>0</td>\n",
              "      <td>0</td>\n",
              "      <td>94</td>\n",
              "      <td>1525.0</td>\n",
              "    </tr>\n",
              "    <tr>\n",
              "      <th>3</th>\n",
              "      <td>4</td>\n",
              "      <td>2013-05-21</td>\n",
              "      <td>Clausen Nicklas</td>\n",
              "      <td>NicklasSClausen@yahoo.com</td>\n",
              "      <td>GUEST_INVITE</td>\n",
              "      <td>1.369210e+09</td>\n",
              "      <td>0</td>\n",
              "      <td>0</td>\n",
              "      <td>1</td>\n",
              "      <td>5151.0</td>\n",
              "    </tr>\n",
              "    <tr>\n",
              "      <th>4</th>\n",
              "      <td>5</td>\n",
              "      <td>2013-01-17</td>\n",
              "      <td>Raw Grace</td>\n",
              "      <td>GraceRaw@yahoo.com</td>\n",
              "      <td>GUEST_INVITE</td>\n",
              "      <td>1.358850e+09</td>\n",
              "      <td>0</td>\n",
              "      <td>0</td>\n",
              "      <td>193</td>\n",
              "      <td>5240.0</td>\n",
              "    </tr>\n",
              "  </tbody>\n",
              "</table>\n",
              "</div>"
            ],
            "text/plain": [
              "   object_id creation_time  ... org_id invited_by_user_id\n",
              "0          1    2014-04-22  ...     11            10803.0\n",
              "1          2    2013-11-15  ...      1              316.0\n",
              "2          3    2013-03-19  ...     94             1525.0\n",
              "3          4    2013-05-21  ...      1             5151.0\n",
              "4          5    2013-01-17  ...    193             5240.0\n",
              "\n",
              "[5 rows x 10 columns]"
            ]
          },
          "metadata": {
            "tags": []
          },
          "execution_count": 3
        }
      ]
    },
    {
      "cell_type": "markdown",
      "metadata": {
        "id": "-e7ubCRGdw-K",
        "colab_type": "text"
      },
      "source": [
        "**Checking the number of users**"
      ]
    },
    {
      "cell_type": "code",
      "metadata": {
        "id": "OvpFMAINdvjO",
        "colab_type": "code",
        "colab": {
          "base_uri": "https://localhost:8080/",
          "height": 72
        },
        "outputId": "e319bce4-1b0d-4c90-b40b-ac0bf39165a6"
      },
      "source": [
        "print(\"Number of unique user id's: \", len(df_users['object_id'].unique()))\n",
        "print(\"Number of unique user names: \", len(df_users['name'].unique()))\n",
        "print(\"Number of unique emails: \", len(df_users['email'].unique()))"
      ],
      "execution_count": 4,
      "outputs": [
        {
          "output_type": "stream",
          "text": [
            "Number of unique user id's:  12000\n",
            "Number of unique user names:  11355\n",
            "Number of unique emails:  11980\n"
          ],
          "name": "stdout"
        }
      ]
    },
    {
      "cell_type": "markdown",
      "metadata": {
        "id": "WWTtQmAJd4fx",
        "colab_type": "text"
      },
      "source": [
        "**Checking the distribution of logins**"
      ]
    },
    {
      "cell_type": "code",
      "metadata": {
        "id": "Z6iPL1hTd2rv",
        "colab_type": "code",
        "colab": {
          "base_uri": "https://localhost:8080/",
          "height": 355
        },
        "outputId": "d18d3fe0-0ca5-4a68-9247-ae7155cd3d9c"
      },
      "source": [
        "plt.figure(figsize=(17,5));\n",
        "plt.hist(df_engagement.groupby('user_id').size());\n",
        "plt.title('Login frequency');\n",
        "plt.xlabel('Number of logins');\n",
        "plt.ylabel('Number of users');"
      ],
      "execution_count": 5,
      "outputs": [
        {
          "output_type": "display_data",
          "data": {
            "image/png": "[encoded data removed]",
            "text/plain": [
              "<Figure size 1224x360 with 1 Axes>"
            ]
          },
          "metadata": {
            "tags": [],
            "needs_background": "light"
          }
        }
      ]
    },
    {
      "cell_type": "markdown",
      "metadata": {
        "id": "NnT3BXWjeCIM",
        "colab_type": "text"
      },
      "source": [
        "**Observations**\n",
        "\n",
        "*   There are 12000 unique users. Although the number of unique user names (11355) and emails (11980) do not match up, there may be individuals who are duplicated in the database. \n",
        "*   If we assume that different individuals have identical names and also go by their email as a reference point to identify duplicate individuals, we would have only 20 duplicate individuals in our database. This is pretty small, so for us to keep things simple, we will stick with 'object_id' (user id) as the reference point for looking up each individual's login.\n",
        "* This data spans between 2012-2014.\n",
        "* Majority of users have less than 50 logins. There is also a small but significant cluster of users who are clearly active. Adopted users with greater than 100 logins."
      ]
    },
    {
      "cell_type": "markdown",
      "metadata": {
        "id": "3-wlhMP2f8yu",
        "colab_type": "text"
      },
      "source": [
        "## **Identify and Examine Adopted Users**"
      ]
    },
    {
      "cell_type": "markdown",
      "metadata": {
        "id": "T8J-UGzQgHgG",
        "colab_type": "text"
      },
      "source": [
        "**Getting each user's login**"
      ]
    },
    {
      "cell_type": "code",
      "metadata": {
        "id": "gqJJ2ObHgGoZ",
        "colab_type": "code",
        "colab": {}
      },
      "source": [
        "user_timestamps = [] # list of arrays, where each array is a user's logins\n",
        "for idx, row in df_users.iterrows():\n",
        "    user_id = row['object_id']\n",
        "    timestamps = df_engagement[df_engagement['user_id']==user_id]['time_stamp']\n",
        "    t = [i for i in timestamps]\n",
        "    user_timestamps.append(t)"
      ],
      "execution_count": 6,
      "outputs": []
    },
    {
      "cell_type": "markdown",
      "metadata": {
        "id": "I6nCTgmdgZ8a",
        "colab_type": "text"
      },
      "source": [
        "\n",
        "**Define function to determine whether a user has logged in on 3 separate days in at least one 7-day period**\n",
        "\n",
        "Based on calculating time elapsed between each login. In the case multiple logins occur on the same day, which might confound this analysis, we remove these \"duplicate\" logins."
      ]
    },
    {
      "cell_type": "code",
      "metadata": {
        "id": "HLegdjKKd_oy",
        "colab_type": "code",
        "colab": {}
      },
      "source": [
        "def adopted(x): # x = list of user's logins ('Timestamp' data type)\n",
        "    if len(x) < 3:\n",
        "        return 0\n",
        "    else:\n",
        "        x.sort()  \n",
        "        y = [x[i+1] - x[i] for i in range(len(x)-2)] # amount of days between logins\n",
        "        y = [i for i in y if i > timedelta(days=0)] # delete extra logins occurring on same day\n",
        "        z = [1 for i in range(len(y)-2) if y[i] + y[i+1] + y[i+2] <= timedelta(days=7)]\n",
        "        # To check if there`s a 1 in x, return 1 if true\n",
        "        if 1 in z:\n",
        "            return 1\n",
        "        else:\n",
        "            return 0"
      ],
      "execution_count": 7,
      "outputs": []
    },
    {
      "cell_type": "markdown",
      "metadata": {
        "id": "ELb3PWEyiuEQ",
        "colab_type": "text"
      },
      "source": [
        "\n",
        "**Identify adopted users**\n",
        "\n",
        "An adopted user is a user who has logged into the product on three separate days in at least one 7-day period.\n"
      ]
    },
    {
      "cell_type": "code",
      "metadata": {
        "id": "alryPp1Yiyqz",
        "colab_type": "code",
        "colab": {}
      },
      "source": [
        "adopt_total = []\n",
        "for user in user_timestamps:\n",
        "        adopt_total.append(adopted(user))\n",
        "\n",
        "df_users['adopted'] = adopt_total"
      ],
      "execution_count": 8,
      "outputs": []
    },
    {
      "cell_type": "code",
      "metadata": {
        "id": "2ORTiLtIi8cB",
        "colab_type": "code",
        "colab": {
          "base_uri": "https://localhost:8080/",
          "height": 54
        },
        "outputId": "30004d31-f89a-4913-e20c-f8fa2c595126"
      },
      "source": [
        "print(\"Number of adopted users: \", sum(adopt_total))\n",
        "print(\"Fraction adopted users: \", sum(adopt_total)/len(adopt_total))"
      ],
      "execution_count": 9,
      "outputs": [
        {
          "output_type": "stream",
          "text": [
            "Number of adopted users:  1322\n",
            "Fraction adopted users:  0.11016666666666666\n"
          ],
          "name": "stdout"
        }
      ]
    },
    {
      "cell_type": "markdown",
      "metadata": {
        "id": "0V3PCskZjA1z",
        "colab_type": "text"
      },
      "source": [
        "11% of customers are adopted users. This means many users who aren't adopted will be valuable for the company to target."
      ]
    },
    {
      "cell_type": "markdown",
      "metadata": {
        "id": "2bC9Ok3VjKEU",
        "colab_type": "text"
      },
      "source": [
        "## **Examine Features**\n",
        "\n",
        "Making a dataframe of features, dropping the irrelevant columns. "
      ]
    },
    {
      "cell_type": "code",
      "metadata": {
        "id": "EYoeRSgJjI91",
        "colab_type": "code",
        "colab": {}
      },
      "source": [
        "df_features = pd.DataFrame.copy(df_users)"
      ],
      "execution_count": 10,
      "outputs": []
    },
    {
      "cell_type": "code",
      "metadata": {
        "id": "sknVGl1sjWN2",
        "colab_type": "code",
        "colab": {
          "base_uri": "https://localhost:8080/",
          "height": 206
        },
        "outputId": "dbed7742-c646-42da-9cc8-8ee9747cb1fd"
      },
      "source": [
        "df_features = pd.DataFrame.copy(df_users)\n",
        "df_features = df_features.drop(['name', 'email', 'object_id', 'creation_time', \n",
        "                                'last_session_creation_time', 'invited_by_user_id'], axis=1)\n",
        "df_features.head()"
      ],
      "execution_count": 11,
      "outputs": [
        {
          "output_type": "execute_result",
          "data": {
            "text/html": [
              "<div>\n",
              "<style scoped>\n",
              "    .dataframe tbody tr th:only-of-type {\n",
              "        vertical-align: middle;\n",
              "    }\n",
              "\n",
              "    .dataframe tbody tr th {\n",
              "        vertical-align: top;\n",
              "    }\n",
              "\n",
              "    .dataframe thead th {\n",
              "        text-align: right;\n",
              "    }\n",
              "</style>\n",
              "<table border=\"1\" class=\"dataframe\">\n",
              "  <thead>\n",
              "    <tr style=\"text-align: right;\">\n",
              "      <th></th>\n",
              "      <th>creation_source</th>\n",
              "      <th>opted_in_to_mailing_list</th>\n",
              "      <th>enabled_for_marketing_drip</th>\n",
              "      <th>org_id</th>\n",
              "      <th>adopted</th>\n",
              "    </tr>\n",
              "  </thead>\n",
              "  <tbody>\n",
              "    <tr>\n",
              "      <th>0</th>\n",
              "      <td>GUEST_INVITE</td>\n",
              "      <td>1</td>\n",
              "      <td>0</td>\n",
              "      <td>11</td>\n",
              "      <td>0</td>\n",
              "    </tr>\n",
              "    <tr>\n",
              "      <th>1</th>\n",
              "      <td>ORG_INVITE</td>\n",
              "      <td>0</td>\n",
              "      <td>0</td>\n",
              "      <td>1</td>\n",
              "      <td>0</td>\n",
              "    </tr>\n",
              "    <tr>\n",
              "      <th>2</th>\n",
              "      <td>ORG_INVITE</td>\n",
              "      <td>0</td>\n",
              "      <td>0</td>\n",
              "      <td>94</td>\n",
              "      <td>0</td>\n",
              "    </tr>\n",
              "    <tr>\n",
              "      <th>3</th>\n",
              "      <td>GUEST_INVITE</td>\n",
              "      <td>0</td>\n",
              "      <td>0</td>\n",
              "      <td>1</td>\n",
              "      <td>0</td>\n",
              "    </tr>\n",
              "    <tr>\n",
              "      <th>4</th>\n",
              "      <td>GUEST_INVITE</td>\n",
              "      <td>0</td>\n",
              "      <td>0</td>\n",
              "      <td>193</td>\n",
              "      <td>0</td>\n",
              "    </tr>\n",
              "  </tbody>\n",
              "</table>\n",
              "</div>"
            ],
            "text/plain": [
              "  creation_source  opted_in_to_mailing_list  ...  org_id  adopted\n",
              "0    GUEST_INVITE                         1  ...      11        0\n",
              "1      ORG_INVITE                         0  ...       1        0\n",
              "2      ORG_INVITE                         0  ...      94        0\n",
              "3    GUEST_INVITE                         0  ...       1        0\n",
              "4    GUEST_INVITE                         0  ...     193        0\n",
              "\n",
              "[5 rows x 5 columns]"
            ]
          },
          "metadata": {
            "tags": []
          },
          "execution_count": 11
        }
      ]
    },
    {
      "cell_type": "markdown",
      "metadata": {
        "id": "6vomMgEOjaR_",
        "colab_type": "text"
      },
      "source": [
        "**Convert features to numeric**\n",
        "\n",
        "The only feature we have to convert is 'creation_source'."
      ]
    },
    {
      "cell_type": "code",
      "metadata": {
        "id": "BOCGM0MUjYix",
        "colab_type": "code",
        "colab": {
          "base_uri": "https://localhost:8080/",
          "height": 54
        },
        "outputId": "1aeb0f5a-22d5-40ab-cd89-424ae42b58af"
      },
      "source": [
        "print('Unique creation sources: ', df_features['creation_source'].unique())"
      ],
      "execution_count": 12,
      "outputs": [
        {
          "output_type": "stream",
          "text": [
            "Unique creation sources:  ['GUEST_INVITE' 'ORG_INVITE' 'SIGNUP' 'PERSONAL_PROJECTS'\n",
            " 'SIGNUP_GOOGLE_AUTH']\n"
          ],
          "name": "stdout"
        }
      ]
    },
    {
      "cell_type": "code",
      "metadata": {
        "id": "LR52ebZPBjKE",
        "colab_type": "code",
        "colab": {}
      },
      "source": [
        "creation = {'GUEST_INVITE':0,\n",
        "            'ORG_INVITE':1,\n",
        "            'SIGNUP':2,\n",
        "            'PERSONAL_PROJECTS':3,\n",
        "            'SIGNUP_GOOGLE_AUTH':4}\n",
        "df_features['creation_source'] = df_features['creation_source'].map(lambda i: creation[i])"
      ],
      "execution_count": 13,
      "outputs": []
    },
    {
      "cell_type": "markdown",
      "metadata": {
        "id": "yGoR1t1RBnYK",
        "colab_type": "text"
      },
      "source": [
        "**Examine the distribution of features**"
      ]
    },
    {
      "cell_type": "code",
      "metadata": {
        "id": "Y8SG6ywNBl3l",
        "colab_type": "code",
        "colab": {
          "base_uri": "https://localhost:8080/",
          "height": 329
        },
        "outputId": "97d65d88-3561-4553-cb8a-e6b373751a80"
      },
      "source": [
        "df_features.hist(sharex=False, sharey=False, xlabelsize=1, figsize=(13,5));"
      ],
      "execution_count": 14,
      "outputs": [
        {
          "output_type": "display_data",
          "data": {
            "image/png": "[encoded data removed]",
            "text/plain": [
              "<Figure size 936x360 with 6 Axes>"
            ]
          },
          "metadata": {
            "tags": [],
            "needs_background": "light"
          }
        }
      ]
    },
    {
      "cell_type": "markdown",
      "metadata": {
        "id": "RprpdfatBuIv",
        "colab_type": "text"
      },
      "source": [
        "None of these features have a continuous normal distribution."
      ]
    },
    {
      "cell_type": "markdown",
      "metadata": {
        "id": "41oXlQj0ByYa",
        "colab_type": "text"
      },
      "source": [
        "**Scale features**\n",
        "\n",
        "We are choosing between StandardScaler and MinMaxScaler. MixmaxScale is more suitable for data that isn't normally distributed. From the above, we can see this is the case. So we will use MinMaxScaler."
      ]
    },
    {
      "cell_type": "code",
      "metadata": {
        "id": "Zn3qsWewBstn",
        "colab_type": "code",
        "colab": {}
      },
      "source": [
        "from sklearn.preprocessing import MinMaxScaler\n",
        "\n",
        "x = df_features.drop('adopted', axis=1)\n",
        "y = df_users['adopted']\n",
        "\n",
        "scaler = MinMaxScaler()\n",
        "scaler.fit(x)\n",
        "x = scaler.fit_transform(x)"
      ],
      "execution_count": 15,
      "outputs": []
    },
    {
      "cell_type": "code",
      "metadata": {
        "id": "6MUCENe6B4ug",
        "colab_type": "code",
        "colab": {
          "base_uri": "https://localhost:8080/",
          "height": 206
        },
        "outputId": "f226f738-ce1a-4564-cdd4-fe9ccec1f709"
      },
      "source": [
        "# Temporarily put into dataframe to easily visualize how features have been converted\n",
        "pd.DataFrame(x).head()"
      ],
      "execution_count": 16,
      "outputs": [
        {
          "output_type": "execute_result",
          "data": {
            "text/html": [
              "<div>\n",
              "<style scoped>\n",
              "    .dataframe tbody tr th:only-of-type {\n",
              "        vertical-align: middle;\n",
              "    }\n",
              "\n",
              "    .dataframe tbody tr th {\n",
              "        vertical-align: top;\n",
              "    }\n",
              "\n",
              "    .dataframe thead th {\n",
              "        text-align: right;\n",
              "    }\n",
              "</style>\n",
              "<table border=\"1\" class=\"dataframe\">\n",
              "  <thead>\n",
              "    <tr style=\"text-align: right;\">\n",
              "      <th></th>\n",
              "      <th>0</th>\n",
              "      <th>1</th>\n",
              "      <th>2</th>\n",
              "      <th>3</th>\n",
              "    </tr>\n",
              "  </thead>\n",
              "  <tbody>\n",
              "    <tr>\n",
              "      <th>0</th>\n",
              "      <td>0.00</td>\n",
              "      <td>1.0</td>\n",
              "      <td>0.0</td>\n",
              "      <td>0.026442</td>\n",
              "    </tr>\n",
              "    <tr>\n",
              "      <th>1</th>\n",
              "      <td>0.25</td>\n",
              "      <td>0.0</td>\n",
              "      <td>0.0</td>\n",
              "      <td>0.002404</td>\n",
              "    </tr>\n",
              "    <tr>\n",
              "      <th>2</th>\n",
              "      <td>0.25</td>\n",
              "      <td>0.0</td>\n",
              "      <td>0.0</td>\n",
              "      <td>0.225962</td>\n",
              "    </tr>\n",
              "    <tr>\n",
              "      <th>3</th>\n",
              "      <td>0.00</td>\n",
              "      <td>0.0</td>\n",
              "      <td>0.0</td>\n",
              "      <td>0.002404</td>\n",
              "    </tr>\n",
              "    <tr>\n",
              "      <th>4</th>\n",
              "      <td>0.00</td>\n",
              "      <td>0.0</td>\n",
              "      <td>0.0</td>\n",
              "      <td>0.463942</td>\n",
              "    </tr>\n",
              "  </tbody>\n",
              "</table>\n",
              "</div>"
            ],
            "text/plain": [
              "      0    1    2         3\n",
              "0  0.00  1.0  0.0  0.026442\n",
              "1  0.25  0.0  0.0  0.002404\n",
              "2  0.25  0.0  0.0  0.225962\n",
              "3  0.00  0.0  0.0  0.002404\n",
              "4  0.00  0.0  0.0  0.463942"
            ]
          },
          "metadata": {
            "tags": []
          },
          "execution_count": 16
        }
      ]
    },
    {
      "cell_type": "markdown",
      "metadata": {
        "id": "09KuspV1B6u2",
        "colab_type": "text"
      },
      "source": [
        "**Correlation matrix of features**\n",
        "\n",
        "To examine whether there is correlation among the features.\n"
      ]
    },
    {
      "cell_type": "code",
      "metadata": {
        "id": "3hui6_uhCAeM",
        "colab_type": "code",
        "colab": {
          "base_uri": "https://localhost:8080/",
          "height": 435
        },
        "outputId": "1b932db7-90d9-4d86-e3a0-764abe037bf4"
      },
      "source": [
        "sns.heatmap(df_features.corr(), cmap=\"PiYG\")"
      ],
      "execution_count": 17,
      "outputs": [
        {
          "output_type": "execute_result",
          "data": {
            "text/plain": [
              "<matplotlib.axes._subplots.AxesSubplot at 0x7fc8f2352278>"
            ]
          },
          "metadata": {
            "tags": []
          },
          "execution_count": 17
        },
        {
          "output_type": "display_data",
          "data": {
            "image/png": "[encoded data removed]",
            "text/plain": [
              "<Figure size 432x288 with 2 Axes>"
            ]
          },
          "metadata": {
            "tags": [],
            "needs_background": "light"
          }
        }
      ]
    },
    {
      "cell_type": "markdown",
      "metadata": {
        "id": "zatcrMNeCSiF",
        "colab_type": "text"
      },
      "source": [
        "**'Enabled_for_marketing_drop'** and **'opted_in_to_mailing_list'** appear highly correlated. We will keep this in mind if we need to drop features to improve our model, since intercorrelated features may hinder model performance."
      ]
    },
    {
      "cell_type": "markdown",
      "metadata": {
        "id": "bQUWRq-WCXT-",
        "colab_type": "text"
      },
      "source": [
        "## **Test models**\n",
        "\n",
        "We test out several models, narrowing down to one, then tuning parameters."
      ]
    },
    {
      "cell_type": "markdown",
      "metadata": {
        "id": "dmroLJCPCdn4",
        "colab_type": "text"
      },
      "source": [
        "**Split features into train/test sets**"
      ]
    },
    {
      "cell_type": "code",
      "metadata": {
        "id": "4E_Qh-s6COw4",
        "colab_type": "code",
        "colab": {}
      },
      "source": [
        "from sklearn.model_selection import train_test_split\n",
        "\n",
        "x_train, x_test, y_train, y_test = train_test_split(x, y, test_size=0.3, random_state=99)"
      ],
      "execution_count": 18,
      "outputs": []
    },
    {
      "cell_type": "markdown",
      "metadata": {
        "id": "rUrs3mwuCkV1",
        "colab_type": "text"
      },
      "source": [
        "**Testing multiple ML approaches at once**"
      ]
    },
    {
      "cell_type": "code",
      "metadata": {
        "id": "jkrGT4RvCi_k",
        "colab_type": "code",
        "colab": {
          "base_uri": "https://localhost:8080/",
          "height": 90
        },
        "outputId": "e63b7f62-536a-405f-8422-62cb6d31e9d0"
      },
      "source": [
        "from sklearn.model_selection import KFold\n",
        "from sklearn.model_selection import cross_val_score\n",
        "from sklearn.model_selection import GridSearchCV\n",
        "\n",
        "from sklearn.linear_model import LogisticRegression\n",
        "from sklearn.neighbors import KNeighborsClassifier\n",
        "from sklearn.ensemble import RandomForestClassifier\n",
        "from sklearn.naive_bayes import MultinomialNB\n",
        "\n",
        "#from sklearn.metrics import classification_report\n",
        "#from sklearn.metrics import confusion_matrix\n",
        "#from sklearn.metrics import accuracy_score\n",
        "#from sklearn.pipeline import Pipeline\n",
        "\n",
        "\n",
        "from sklearn.ensemble import RandomForestClassifier\n",
        "\n",
        "num_folds=10\n",
        "scoring='roc_auc'\n",
        "\n",
        "models=[]\n",
        "models.append(('LR', LogisticRegression()))\n",
        "models.append(('KN', KNeighborsClassifier()))\n",
        "models.append(('RF', RandomForestClassifier()))\n",
        "models.append(('B', MultinomialNB()))\n",
        "\n",
        "results = []\n",
        "names = []\n",
        "\n",
        "for name, model in models:\n",
        "    kfold = KFold(n_splits=num_folds, random_state=99, shuffle=True)\n",
        "    cv_results = cross_val_score(model, x_train, y_train, cv=kfold, scoring=scoring)\n",
        "    results.append(cv_results)\n",
        "    names.append(name)\n",
        "    print('%s: %f (%f)' % (name, cv_results.mean(), cv_results.std()))"
      ],
      "execution_count": 19,
      "outputs": [
        {
          "output_type": "stream",
          "text": [
            "LR: 0.566898 (0.022869)\n",
            "KN: 0.549487 (0.030297)\n",
            "RF: 0.547229 (0.023428)\n",
            "B: 0.561615 (0.023597)\n"
          ],
          "name": "stdout"
        }
      ]
    },
    {
      "cell_type": "markdown",
      "metadata": {
        "id": "crZ2YFrFDFA0",
        "colab_type": "text"
      },
      "source": [
        "We pick logistic regression, since it has the best ROC-AUC."
      ]
    },
    {
      "cell_type": "markdown",
      "metadata": {
        "id": "JhSpO9pUDK9w",
        "colab_type": "text"
      },
      "source": [
        "**Tune model**\n",
        "\n",
        "Tune the model to see if we can obtain further improvements.\n"
      ]
    },
    {
      "cell_type": "code",
      "metadata": {
        "id": "bwVT6XEkDATp",
        "colab_type": "code",
        "colab": {
          "base_uri": "https://localhost:8080/",
          "height": 72
        },
        "outputId": "3f6f94d9-69ea-4f17-f168-5d9a428d5ba4"
      },
      "source": [
        "from sklearn.metrics import confusion_matrix\n",
        "\n",
        "# Re-instantiate model\n",
        "model = LogisticRegression() # instantiate logreg w/ l1 regularization\n",
        "model.fit(x_train, y_train)\n",
        "y_pred = model.predict(x_test)\n",
        "\n",
        "# Confusion matrix\n",
        "print('Confusion matrix: ')\n",
        "print(confusion_matrix(y_test, y_pred))"
      ],
      "execution_count": 20,
      "outputs": [
        {
          "output_type": "stream",
          "text": [
            "Confusion matrix: \n",
            "[[3209    0]\n",
            " [ 391    0]]\n"
          ],
          "name": "stdout"
        }
      ]
    },
    {
      "cell_type": "markdown",
      "metadata": {
        "id": "cz_2l_AfDRJB",
        "colab_type": "text"
      },
      "source": [
        "*   The performance is great at not having any false positives (non-adopted users falsely identified as adopted). This means that no un-adopted user will slip through the cracks if Relax, Inc. ends up deciding to target non-adopted users with specific ads, etc. to retain them.\n",
        "*   Although we have 391 false negatives - adopted users misclassified as non-adopted users maybe they will continue to be adopters, even if they get targeted with non-adopter ads, for example. This would mean the FN's (false negatives) are not costly. \n",
        "\n",
        "Regardless, let's see if we can get better performance with Lasso regularization"
      ]
    },
    {
      "cell_type": "code",
      "metadata": {
        "id": "v0jnIRNKDQFL",
        "colab_type": "code",
        "colab": {
          "base_uri": "https://localhost:8080/",
          "height": 72
        },
        "outputId": "c09e9c9f-3988-47a6-e5fe-7995057614d1"
      },
      "source": [
        "model = LogisticRegression(penalty='l2') \n",
        "model.fit(x_train, y_train)\n",
        "y_pred = model.predict(x_test)\n",
        "\n",
        "# Confusion matrix\n",
        "print('Confusion matrix: ')\n",
        "print(confusion_matrix(y_test, y_pred))"
      ],
      "execution_count": 21,
      "outputs": [
        {
          "output_type": "stream",
          "text": [
            "Confusion matrix: \n",
            "[[3209    0]\n",
            " [ 391    0]]\n"
          ],
          "name": "stdout"
        }
      ]
    },
    {
      "cell_type": "markdown",
      "metadata": {
        "id": "6vHmo--UEUBY",
        "colab_type": "text"
      },
      "source": [
        "It's actually the same here in this case. Perhaps not just for this train/test split, but the difference seems likely to be small."
      ]
    },
    {
      "cell_type": "markdown",
      "metadata": {
        "id": "ni0nyW7mEgVU",
        "colab_type": "text"
      },
      "source": [
        "## **Examine feature importance**\n",
        "Plot relative importance of features"
      ]
    },
    {
      "cell_type": "code",
      "metadata": {
        "id": "9pBn39D4EPsn",
        "colab_type": "code",
        "colab": {
          "base_uri": "https://localhost:8080/",
          "height": 629
        },
        "outputId": "dca04d26-e6d5-4dc2-8c3e-d684de085b76"
      },
      "source": [
        "features = df_features.columns[:-1].tolist()\n",
        "coefs = model.coef_[0]\n",
        "\n",
        "plt.figure(figsize=(15,10));\n",
        "plt.bar(features, coefs);\n",
        "plt.title('Relative importance of features')"
      ],
      "execution_count": 22,
      "outputs": [
        {
          "output_type": "execute_result",
          "data": {
            "text/plain": [
              "Text(0.5, 1.0, 'Relative importance of features')"
            ]
          },
          "metadata": {
            "tags": []
          },
          "execution_count": 22
        },
        {
          "output_type": "display_data",
          "data": {
            "image/png": "[encoded data removed]",
            "text/plain": [
              "<Figure size 1080x720 with 1 Axes>"
            ]
          },
          "metadata": {
            "tags": [],
            "needs_background": "light"
          }
        }
      ]
    },
    {
      "cell_type": "markdown",
      "metadata": {
        "id": "iCGaCwXkE3er",
        "colab_type": "text"
      },
      "source": [
        "**'creation_source'** and **'org_id'** seem to be most important features. It is difficult to make a specific recommendation since we only know that they are heavily weighted. So let's take a closer look. "
      ]
    },
    {
      "cell_type": "code",
      "metadata": {
        "id": "MSBFneb5ElsT",
        "colab_type": "code",
        "colab": {
          "base_uri": "https://localhost:8080/",
          "height": 269
        },
        "outputId": "0187362d-40a3-4c80-d9c2-91b5509b84df"
      },
      "source": [
        "names = ['guest_invite', 'org_invite', 'signup', 'personal_projects', 'signup_google_auth']\n",
        "count = df_users.groupby('creation_source').size().tolist()\n",
        "\n",
        "plt.figure(figsize=(10,4));\n",
        "plt.bar(names, count);"
      ],
      "execution_count": 23,
      "outputs": [
        {
          "output_type": "display_data",
          "data": {
            "image/png": "[encoded data removed]",
            "text/plain": [
              "<Figure size 720x288 with 1 Axes>"
            ]
          },
          "metadata": {
            "tags": [],
            "needs_background": "light"
          }
        }
      ]
    },
    {
      "cell_type": "markdown",
      "metadata": {
        "id": "N1yBCUF9FOBD",
        "colab_type": "text"
      },
      "source": [
        "The most common creation source seems to be **'org_invite'**. This makes sense, since **'org_id'** is our other feature with a relatively large weight. Let's examine **'org_id'** next."
      ]
    },
    {
      "cell_type": "code",
      "metadata": {
        "id": "naUtyFI0FKRr",
        "colab_type": "code",
        "colab": {
          "base_uri": "https://localhost:8080/",
          "height": 285
        },
        "outputId": "585fe69e-9d02-4358-8b00-ecd0fe999f8a"
      },
      "source": [
        "count = df_users.groupby('org_id').size()\n",
        "plt.figure(figsize=(17,4))\n",
        "plt.hist(count);\n",
        "plt.xlabel('# users per organization');\n",
        "plt.ylabel('# of organizations');"
      ],
      "execution_count": 24,
      "outputs": [
        {
          "output_type": "display_data",
          "data": {
            "image/png": "[encoded data removed]",
            "text/plain": [
              "<Figure size 1224x288 with 1 Axes>"
            ]
          },
          "metadata": {
            "tags": [],
            "needs_background": "light"
          }
        }
      ]
    },
    {
      "cell_type": "markdown",
      "metadata": {
        "id": "rGlTjeWRFZI6",
        "colab_type": "text"
      },
      "source": [
        "The majority of organizations (group of users, by 'org_id') seem to have greater than 70 members. However, there are a few large organizations with many more members. Let's examine those more closely."
      ]
    },
    {
      "cell_type": "code",
      "metadata": {
        "id": "I2nDuEF9FXan",
        "colab_type": "code",
        "colab": {
          "base_uri": "https://localhost:8080/",
          "height": 319
        },
        "outputId": "2d1d4995-4ece-44ac-ebfb-05b51b1c9928"
      },
      "source": [
        "test = pd.DataFrame({'count':count.tolist(), 'org_id':count.index})\n",
        "test = test[test['count'] > 70]['count']\n",
        "plt.hist(test);\n",
        "plt.xlabel('org_id');\n",
        "plt.ylabel('freq of referral');\n",
        "plt.title('Organizations with greater than 70 users');\n",
        "print('Total organizations with greater than 70 users: ', len(test))"
      ],
      "execution_count": 25,
      "outputs": [
        {
          "output_type": "stream",
          "text": [
            "Total organizations with greater than 70 users:  18\n"
          ],
          "name": "stdout"
        },
        {
          "output_type": "display_data",
          "data": {
            "image/png": "[encoded data removed]",
            "text/plain": [
              "<Figure size 432x288 with 1 Axes>"
            ]
          },
          "metadata": {
            "tags": [],
            "needs_background": "light"
          }
        }
      ]
    },
    {
      "cell_type": "markdown",
      "metadata": {
        "id": "AYdDwX7uFv69",
        "colab_type": "text"
      },
      "source": [
        "There are 18 organizations with greater than 70 users. These organizations might be worth targeting to get more even users."
      ]
    },
    {
      "cell_type": "markdown",
      "metadata": {
        "id": "zuALk6qTF14Q",
        "colab_type": "text"
      },
      "source": [
        "## **Conclusion**\n",
        "\n",
        "Our most important features were 'org_id' and 'creation_source'. It seems many of Relax Inc's users are influenced to adopt by principle of being part of an organization or in whatever way they were invited.\n",
        "\n",
        "Upon closer examination of these features, whether the user was prompted to adopt due to being part of an organization is probably the most important factor in determining whether they adopt. There are about 18 organizations with more than 70 users.\n",
        "\n",
        "**Recommendation:** To increase number of adopters, it may be more worthwhile to target organizations rather than individual customers - particularly focusing on encouraging organizations to enroll large numbers of their members. Individual-level factors such as how users signed up (not including by an organization) and whether they were on a mailing list are not nearly as important as whether they were part of an organization."
      ]
    }
  ]
}